{
 "cells": [
  {
   "cell_type": "code",
   "execution_count": 1,
   "metadata": {},
   "outputs": [],
   "source": [
    "import numpy as np\n",
    "import pandas as pd\n",
    "import tensorflow as tf\n",
    "from tensorflow.keras.models import Sequential\n",
    "from tensorflow.keras.layers import Dense, Dropout\n",
    "from sklearn.model_selection import train_test_split\n",
    "from sklearn.preprocessing import StandardScaler, LabelEncoder\n",
    "from sklearn.metrics import classification_report, confusion_matrix\n",
    "import matplotlib.pyplot as plt\n",
    "import seaborn as sns"
   ]
  },
  {
   "cell_type": "code",
   "execution_count": 2,
   "metadata": {},
   "outputs": [],
   "source": [
    "file_path = 'insurance_claims.csv'\n",
    "data = pd.read_csv(file_path)"
   ]
  },
  {
   "cell_type": "code",
   "execution_count": 3,
   "metadata": {},
   "outputs": [
    {
     "name": "stdout",
     "output_type": "stream",
     "text": [
      "Dataset Overview:\n",
      "    months_as_customer  age  policy_number policy_bind_date policy_state  \\\n",
      "0                 328   48         521585       2014-10-17           OH   \n",
      "1                 228   42         342868       2006-06-27           IN   \n",
      "2                 134   29         687698       2000-09-06           OH   \n",
      "3                 256   41         227811       1990-05-25           IL   \n",
      "4                 228   44         367455       2014-06-06           IL   \n",
      "\n",
      "  policy_csl  policy_deductable  policy_annual_premium  umbrella_limit  \\\n",
      "0    250/500               1000                1406.91               0   \n",
      "1    250/500               2000                1197.22         5000000   \n",
      "2    100/300               2000                1413.14         5000000   \n",
      "3    250/500               2000                1415.74         6000000   \n",
      "4   500/1000               1000                1583.91         6000000   \n",
      "\n",
      "   insured_zip  ... police_report_available total_claim_amount injury_claim  \\\n",
      "0       466132  ...                     YES              71610         6510   \n",
      "1       468176  ...                       ?               5070          780   \n",
      "2       430632  ...                      NO              34650         7700   \n",
      "3       608117  ...                      NO              63400         6340   \n",
      "4       610706  ...                      NO               6500         1300   \n",
      "\n",
      "  property_claim vehicle_claim  auto_make  auto_model auto_year  \\\n",
      "0          13020         52080       Saab         92x      2004   \n",
      "1            780          3510   Mercedes        E400      2007   \n",
      "2           3850         23100      Dodge         RAM      2007   \n",
      "3           6340         50720  Chevrolet       Tahoe      2014   \n",
      "4            650          4550     Accura         RSX      2009   \n",
      "\n",
      "  fraud_reported _c39  \n",
      "0              Y  NaN  \n",
      "1              Y  NaN  \n",
      "2              N  NaN  \n",
      "3              Y  NaN  \n",
      "4              N  NaN  \n",
      "\n",
      "[5 rows x 40 columns]\n",
      "\n",
      "Dataset Info:\n",
      "\n",
      "<class 'pandas.core.frame.DataFrame'>\n",
      "RangeIndex: 1000 entries, 0 to 999\n",
      "Data columns (total 40 columns):\n",
      " #   Column                       Non-Null Count  Dtype  \n",
      "---  ------                       --------------  -----  \n",
      " 0   months_as_customer           1000 non-null   int64  \n",
      " 1   age                          1000 non-null   int64  \n",
      " 2   policy_number                1000 non-null   int64  \n",
      " 3   policy_bind_date             1000 non-null   object \n",
      " 4   policy_state                 1000 non-null   object \n",
      " 5   policy_csl                   1000 non-null   object \n",
      " 6   policy_deductable            1000 non-null   int64  \n",
      " 7   policy_annual_premium        1000 non-null   float64\n",
      " 8   umbrella_limit               1000 non-null   int64  \n",
      " 9   insured_zip                  1000 non-null   int64  \n",
      " 10  insured_sex                  1000 non-null   object \n",
      " 11  insured_education_level      1000 non-null   object \n",
      " 12  insured_occupation           1000 non-null   object \n",
      " 13  insured_hobbies              1000 non-null   object \n",
      " 14  insured_relationship         1000 non-null   object \n",
      " 15  capital-gains                1000 non-null   int64  \n",
      " 16  capital-loss                 1000 non-null   int64  \n",
      " 17  incident_date                1000 non-null   object \n",
      " 18  incident_type                1000 non-null   object \n",
      " 19  collision_type               1000 non-null   object \n",
      " 20  incident_severity            1000 non-null   object \n",
      " 21  authorities_contacted        909 non-null    object \n",
      " 22  incident_state               1000 non-null   object \n",
      " 23  incident_city                1000 non-null   object \n",
      " 24  incident_location            1000 non-null   object \n",
      " 25  incident_hour_of_the_day     1000 non-null   int64  \n",
      " 26  number_of_vehicles_involved  1000 non-null   int64  \n",
      " 27  property_damage              1000 non-null   object \n",
      " 28  bodily_injuries              1000 non-null   int64  \n",
      " 29  witnesses                    1000 non-null   int64  \n",
      " 30  police_report_available      1000 non-null   object \n",
      " 31  total_claim_amount           1000 non-null   int64  \n",
      " 32  injury_claim                 1000 non-null   int64  \n",
      " 33  property_claim               1000 non-null   int64  \n",
      " 34  vehicle_claim                1000 non-null   int64  \n",
      " 35  auto_make                    1000 non-null   object \n",
      " 36  auto_model                   1000 non-null   object \n",
      " 37  auto_year                    1000 non-null   int64  \n",
      " 38  fraud_reported               1000 non-null   object \n",
      " 39  _c39                         0 non-null      float64\n",
      "dtypes: float64(2), int64(17), object(21)\n",
      "memory usage: 312.6+ KB\n",
      "\n",
      "Missing Values:\n",
      " months_as_customer                0\n",
      "age                               0\n",
      "policy_number                     0\n",
      "policy_bind_date                  0\n",
      "policy_state                      0\n",
      "policy_csl                        0\n",
      "policy_deductable                 0\n",
      "policy_annual_premium             0\n",
      "umbrella_limit                    0\n",
      "insured_zip                       0\n",
      "insured_sex                       0\n",
      "insured_education_level           0\n",
      "insured_occupation                0\n",
      "insured_hobbies                   0\n",
      "insured_relationship              0\n",
      "capital-gains                     0\n",
      "capital-loss                      0\n",
      "incident_date                     0\n",
      "incident_type                     0\n",
      "collision_type                    0\n",
      "incident_severity                 0\n",
      "authorities_contacted            91\n",
      "incident_state                    0\n",
      "incident_city                     0\n",
      "incident_location                 0\n",
      "incident_hour_of_the_day          0\n",
      "number_of_vehicles_involved       0\n",
      "property_damage                   0\n",
      "bodily_injuries                   0\n",
      "witnesses                         0\n",
      "police_report_available           0\n",
      "total_claim_amount                0\n",
      "injury_claim                      0\n",
      "property_claim                    0\n",
      "vehicle_claim                     0\n",
      "auto_make                         0\n",
      "auto_model                        0\n",
      "auto_year                         0\n",
      "fraud_reported                    0\n",
      "_c39                           1000\n",
      "dtype: int64\n"
     ]
    }
   ],
   "source": [
    "print(\"Dataset Overview:\\n\", data.head())\n",
    "print(\"\\nDataset Info:\\n\")\n",
    "data.info()\n",
    "print(\"\\nMissing Values:\\n\", data.isnull().sum())"
   ]
  },
  {
   "cell_type": "code",
   "execution_count": 6,
   "metadata": {},
   "outputs": [],
   "source": [
    "# Fill missing values for numerical columns with mean\n",
    "data.fillna(data.select_dtypes(include=[np.number]).mean(), inplace=True)\n",
    "\n",
    "# Fill missing values for categorical columns with mode\n",
    "for column in data.select_dtypes(include=[object]).columns:\n",
    "\tdata[column].fillna(data[column].mode()[0], inplace=True)"
   ]
  },
  {
   "cell_type": "code",
   "execution_count": 7,
   "metadata": {},
   "outputs": [],
   "source": [
    "label_encoders = {}\n",
    "for column in data.select_dtypes(include=['object']).columns:\n",
    "    le = LabelEncoder()\n",
    "    data[column] = le.fit_transform(data[column])\n",
    "    label_encoders[column] = le"
   ]
  },
  {
   "cell_type": "code",
   "execution_count": 8,
   "metadata": {},
   "outputs": [],
   "source": [
    "X = data.drop('fraud_reported', axis=1)\n",
    "y = data['fraud_reported']"
   ]
  },
  {
   "cell_type": "code",
   "execution_count": 9,
   "metadata": {},
   "outputs": [],
   "source": [
    "X_train, X_test, y_train, y_test = train_test_split(X, y, test_size=0.2, random_state=42)"
   ]
  },
  {
   "cell_type": "code",
   "execution_count": 10,
   "metadata": {},
   "outputs": [
    {
     "name": "stderr",
     "output_type": "stream",
     "text": [
      "/opt/anaconda3/envs/cu/lib/python3.8/site-packages/sklearn/utils/extmath.py:1050: RuntimeWarning: invalid value encountered in divide\n",
      "  updated_mean = (last_sum + new_sum) / updated_sample_count\n",
      "/opt/anaconda3/envs/cu/lib/python3.8/site-packages/sklearn/utils/extmath.py:1055: RuntimeWarning: invalid value encountered in divide\n",
      "  T = new_sum / new_sample_count\n",
      "/opt/anaconda3/envs/cu/lib/python3.8/site-packages/sklearn/utils/extmath.py:1075: RuntimeWarning: invalid value encountered in divide\n",
      "  new_unnormalized_variance -= correction**2 / new_sample_count\n"
     ]
    }
   ],
   "source": [
    "scaler = StandardScaler()\n",
    "X_train = scaler.fit_transform(X_train)\n",
    "X_test = scaler.transform(X_test)"
   ]
  },
  {
   "cell_type": "code",
   "execution_count": 11,
   "metadata": {},
   "outputs": [],
   "source": [
    "model = Sequential([\n",
    "    Dense(128, input_dim=X_train.shape[1], activation='relu'),\n",
    "    Dropout(0.3),\n",
    "    Dense(64, activation='relu'),\n",
    "    Dropout(0.3),\n",
    "    Dense(32, activation='relu'),\n",
    "    Dense(1, activation='sigmoid')\n",
    "])"
   ]
  },
  {
   "cell_type": "code",
   "execution_count": 12,
   "metadata": {},
   "outputs": [],
   "source": [
    "model.compile(optimizer='adam', loss='binary_crossentropy', metrics=['accuracy'])"
   ]
  },
  {
   "cell_type": "code",
   "execution_count": 13,
   "metadata": {},
   "outputs": [
    {
     "name": "stdout",
     "output_type": "stream",
     "text": [
      "Epoch 1/50\n",
      "25/25 [==============================] - 0s 3ms/step - loss: nan - accuracy: 0.7600 - val_loss: nan - val_accuracy: 0.7250\n",
      "Epoch 2/50\n",
      "25/25 [==============================] - 0s 1ms/step - loss: nan - accuracy: 0.7600 - val_loss: nan - val_accuracy: 0.7250\n",
      "Epoch 3/50\n",
      "25/25 [==============================] - 0s 979us/step - loss: nan - accuracy: 0.7600 - val_loss: nan - val_accuracy: 0.7250\n",
      "Epoch 4/50\n",
      "25/25 [==============================] - 0s 1ms/step - loss: nan - accuracy: 0.7600 - val_loss: nan - val_accuracy: 0.7250\n",
      "Epoch 5/50\n",
      "25/25 [==============================] - 0s 1ms/step - loss: nan - accuracy: 0.7600 - val_loss: nan - val_accuracy: 0.7250\n",
      "Epoch 6/50\n",
      "25/25 [==============================] - 0s 1ms/step - loss: nan - accuracy: 0.7600 - val_loss: nan - val_accuracy: 0.7250\n",
      "Epoch 7/50\n",
      "25/25 [==============================] - 0s 1ms/step - loss: nan - accuracy: 0.7600 - val_loss: nan - val_accuracy: 0.7250\n",
      "Epoch 8/50\n",
      "25/25 [==============================] - 0s 1ms/step - loss: nan - accuracy: 0.7600 - val_loss: nan - val_accuracy: 0.7250\n",
      "Epoch 9/50\n",
      "25/25 [==============================] - 0s 1ms/step - loss: nan - accuracy: 0.7600 - val_loss: nan - val_accuracy: 0.7250\n",
      "Epoch 10/50\n",
      "25/25 [==============================] - 0s 1ms/step - loss: nan - accuracy: 0.7600 - val_loss: nan - val_accuracy: 0.7250\n",
      "Epoch 11/50\n",
      "25/25 [==============================] - 0s 1ms/step - loss: nan - accuracy: 0.7600 - val_loss: nan - val_accuracy: 0.7250\n",
      "Epoch 12/50\n",
      "25/25 [==============================] - 0s 1ms/step - loss: nan - accuracy: 0.7600 - val_loss: nan - val_accuracy: 0.7250\n",
      "Epoch 13/50\n",
      "25/25 [==============================] - 0s 1ms/step - loss: nan - accuracy: 0.7600 - val_loss: nan - val_accuracy: 0.7250\n",
      "Epoch 14/50\n",
      "25/25 [==============================] - 0s 1ms/step - loss: nan - accuracy: 0.7600 - val_loss: nan - val_accuracy: 0.7250\n",
      "Epoch 15/50\n",
      "25/25 [==============================] - 0s 1ms/step - loss: nan - accuracy: 0.7600 - val_loss: nan - val_accuracy: 0.7250\n",
      "Epoch 16/50\n",
      "25/25 [==============================] - 0s 1ms/step - loss: nan - accuracy: 0.7600 - val_loss: nan - val_accuracy: 0.7250\n",
      "Epoch 17/50\n",
      "25/25 [==============================] - 0s 1ms/step - loss: nan - accuracy: 0.7600 - val_loss: nan - val_accuracy: 0.7250\n",
      "Epoch 18/50\n",
      "25/25 [==============================] - 0s 1ms/step - loss: nan - accuracy: 0.7600 - val_loss: nan - val_accuracy: 0.7250\n",
      "Epoch 19/50\n",
      "25/25 [==============================] - 0s 1ms/step - loss: nan - accuracy: 0.7600 - val_loss: nan - val_accuracy: 0.7250\n",
      "Epoch 20/50\n",
      "25/25 [==============================] - 0s 1ms/step - loss: nan - accuracy: 0.7600 - val_loss: nan - val_accuracy: 0.7250\n",
      "Epoch 21/50\n",
      "25/25 [==============================] - 0s 1ms/step - loss: nan - accuracy: 0.7600 - val_loss: nan - val_accuracy: 0.7250\n",
      "Epoch 22/50\n",
      "25/25 [==============================] - 0s 1ms/step - loss: nan - accuracy: 0.7600 - val_loss: nan - val_accuracy: 0.7250\n",
      "Epoch 23/50\n",
      "25/25 [==============================] - 0s 1ms/step - loss: nan - accuracy: 0.7600 - val_loss: nan - val_accuracy: 0.7250\n",
      "Epoch 24/50\n",
      "25/25 [==============================] - 0s 993us/step - loss: nan - accuracy: 0.7600 - val_loss: nan - val_accuracy: 0.7250\n",
      "Epoch 25/50\n",
      "25/25 [==============================] - 0s 1ms/step - loss: nan - accuracy: 0.7600 - val_loss: nan - val_accuracy: 0.7250\n",
      "Epoch 26/50\n",
      "25/25 [==============================] - 0s 997us/step - loss: nan - accuracy: 0.7600 - val_loss: nan - val_accuracy: 0.7250\n",
      "Epoch 27/50\n",
      "25/25 [==============================] - 0s 1ms/step - loss: nan - accuracy: 0.7600 - val_loss: nan - val_accuracy: 0.7250\n",
      "Epoch 28/50\n",
      "25/25 [==============================] - 0s 966us/step - loss: nan - accuracy: 0.7600 - val_loss: nan - val_accuracy: 0.7250\n",
      "Epoch 29/50\n",
      "25/25 [==============================] - 0s 969us/step - loss: nan - accuracy: 0.7600 - val_loss: nan - val_accuracy: 0.7250\n",
      "Epoch 30/50\n",
      "25/25 [==============================] - 0s 1ms/step - loss: nan - accuracy: 0.7600 - val_loss: nan - val_accuracy: 0.7250\n",
      "Epoch 31/50\n",
      "25/25 [==============================] - 0s 991us/step - loss: nan - accuracy: 0.7600 - val_loss: nan - val_accuracy: 0.7250\n",
      "Epoch 32/50\n",
      "25/25 [==============================] - 0s 1ms/step - loss: nan - accuracy: 0.7600 - val_loss: nan - val_accuracy: 0.7250\n",
      "Epoch 33/50\n",
      "25/25 [==============================] - 0s 998us/step - loss: nan - accuracy: 0.7600 - val_loss: nan - val_accuracy: 0.7250\n",
      "Epoch 34/50\n",
      "25/25 [==============================] - 0s 1ms/step - loss: nan - accuracy: 0.7600 - val_loss: nan - val_accuracy: 0.7250\n",
      "Epoch 35/50\n",
      "25/25 [==============================] - 0s 1ms/step - loss: nan - accuracy: 0.7600 - val_loss: nan - val_accuracy: 0.7250\n",
      "Epoch 36/50\n",
      "25/25 [==============================] - 0s 1ms/step - loss: nan - accuracy: 0.7600 - val_loss: nan - val_accuracy: 0.7250\n",
      "Epoch 37/50\n",
      "25/25 [==============================] - 0s 1ms/step - loss: nan - accuracy: 0.7600 - val_loss: nan - val_accuracy: 0.7250\n",
      "Epoch 38/50\n",
      "25/25 [==============================] - 0s 1ms/step - loss: nan - accuracy: 0.7600 - val_loss: nan - val_accuracy: 0.7250\n",
      "Epoch 39/50\n",
      "25/25 [==============================] - 0s 1ms/step - loss: nan - accuracy: 0.7600 - val_loss: nan - val_accuracy: 0.7250\n",
      "Epoch 40/50\n",
      "25/25 [==============================] - 0s 1ms/step - loss: nan - accuracy: 0.7600 - val_loss: nan - val_accuracy: 0.7250\n",
      "Epoch 41/50\n",
      "25/25 [==============================] - 0s 1ms/step - loss: nan - accuracy: 0.7600 - val_loss: nan - val_accuracy: 0.7250\n",
      "Epoch 42/50\n",
      "25/25 [==============================] - 0s 1ms/step - loss: nan - accuracy: 0.7600 - val_loss: nan - val_accuracy: 0.7250\n",
      "Epoch 43/50\n",
      "25/25 [==============================] - 0s 1ms/step - loss: nan - accuracy: 0.7600 - val_loss: nan - val_accuracy: 0.7250\n",
      "Epoch 44/50\n",
      "25/25 [==============================] - 0s 1ms/step - loss: nan - accuracy: 0.7600 - val_loss: nan - val_accuracy: 0.7250\n",
      "Epoch 45/50\n",
      "25/25 [==============================] - 0s 1ms/step - loss: nan - accuracy: 0.7600 - val_loss: nan - val_accuracy: 0.7250\n",
      "Epoch 46/50\n",
      "25/25 [==============================] - 0s 1ms/step - loss: nan - accuracy: 0.7600 - val_loss: nan - val_accuracy: 0.7250\n",
      "Epoch 47/50\n",
      "25/25 [==============================] - 0s 1ms/step - loss: nan - accuracy: 0.7600 - val_loss: nan - val_accuracy: 0.7250\n",
      "Epoch 48/50\n",
      "25/25 [==============================] - 0s 1ms/step - loss: nan - accuracy: 0.7600 - val_loss: nan - val_accuracy: 0.7250\n",
      "Epoch 49/50\n",
      "25/25 [==============================] - 0s 1ms/step - loss: nan - accuracy: 0.7600 - val_loss: nan - val_accuracy: 0.7250\n",
      "Epoch 50/50\n",
      "25/25 [==============================] - 0s 1ms/step - loss: nan - accuracy: 0.7600 - val_loss: nan - val_accuracy: 0.7250\n"
     ]
    }
   ],
   "source": [
    "history = model.fit(X_train, y_train, epochs=50, batch_size=32, validation_data=(X_test, y_test))"
   ]
  },
  {
   "cell_type": "code",
   "execution_count": 14,
   "metadata": {},
   "outputs": [
    {
     "name": "stdout",
     "output_type": "stream",
     "text": [
      "7/7 [==============================] - 0s 537us/step - loss: nan - accuracy: 0.7250\n",
      "\n",
      "Test Accuracy: 72.50%\n"
     ]
    }
   ],
   "source": [
    "loss, accuracy = model.evaluate(X_test, y_test)\n",
    "print(f\"\\nTest Accuracy: {accuracy*100:.2f}%\")"
   ]
  },
  {
   "cell_type": "code",
   "execution_count": 15,
   "metadata": {},
   "outputs": [
    {
     "name": "stdout",
     "output_type": "stream",
     "text": [
      "7/7 [==============================] - 0s 603us/step\n",
      "\n",
      "Classification Report:\n",
      "               precision    recall  f1-score   support\n",
      "\n",
      "           0       0.72      1.00      0.84       145\n",
      "           1       0.00      0.00      0.00        55\n",
      "\n",
      "    accuracy                           0.73       200\n",
      "   macro avg       0.36      0.50      0.42       200\n",
      "weighted avg       0.53      0.72      0.61       200\n",
      "\n"
     ]
    },
    {
     "name": "stderr",
     "output_type": "stream",
     "text": [
      "/opt/anaconda3/envs/cu/lib/python3.8/site-packages/sklearn/metrics/_classification.py:1471: UndefinedMetricWarning: Precision and F-score are ill-defined and being set to 0.0 in labels with no predicted samples. Use `zero_division` parameter to control this behavior.\n",
      "  _warn_prf(average, modifier, msg_start, len(result))\n",
      "/opt/anaconda3/envs/cu/lib/python3.8/site-packages/sklearn/metrics/_classification.py:1471: UndefinedMetricWarning: Precision and F-score are ill-defined and being set to 0.0 in labels with no predicted samples. Use `zero_division` parameter to control this behavior.\n",
      "  _warn_prf(average, modifier, msg_start, len(result))\n",
      "/opt/anaconda3/envs/cu/lib/python3.8/site-packages/sklearn/metrics/_classification.py:1471: UndefinedMetricWarning: Precision and F-score are ill-defined and being set to 0.0 in labels with no predicted samples. Use `zero_division` parameter to control this behavior.\n",
      "  _warn_prf(average, modifier, msg_start, len(result))\n"
     ]
    }
   ],
   "source": [
    "y_pred = (model.predict(X_test) > 0.5).astype(\"int32\")\n",
    "print(\"\\nClassification Report:\\n\", classification_report(y_test, y_pred))\n",
    "conf_matrix = confusion_matrix(y_test, y_pred)"
   ]
  },
  {
   "cell_type": "code",
   "execution_count": 16,
   "metadata": {},
   "outputs": [
    {
     "data": {
      "image/png": "[encoded data removed]",
      "text/plain": [
       "<Figure size 800x600 with 2 Axes>"
      ]
     },
     "metadata": {},
     "output_type": "display_data"
    }
   ],
   "source": [
    "plt.figure(figsize=(8, 6))\n",
    "sns.heatmap(conf_matrix, annot=True, fmt='d', cmap='Blues', xticklabels=['Not Fraud', 'Fraud'], yticklabels=['Not Fraud', 'Fraud'])\n",
    "plt.xlabel('Predicted')\n",
    "plt.ylabel('Actual')\n",
    "plt.title('Confusion Matrix')\n",
    "plt.show()"
   ]
  },
  {
   "cell_type": "code",
   "execution_count": 17,
   "metadata": {},
   "outputs": [
    {
     "data": {
      "image/png": "[encoded data removed]",
      "text/plain": [
       "<Figure size 1200x600 with 1 Axes>"
      ]
     },
     "metadata": {},
     "output_type": "display_data"
    }
   ],
   "source": [
    "plt.figure(figsize=(12, 6))\n",
    "plt.plot(history.history['accuracy'], label='Train Accuracy')\n",
    "plt.plot(history.history['val_accuracy'], label='Validation Accuracy')\n",
    "plt.xlabel('Epochs')\n",
    "plt.ylabel('Accuracy')\n",
    "plt.title('Model Accuracy')\n",
    "plt.legend()\n",
    "plt.show()"
   ]
  },
  {
   "cell_type": "code",
   "execution_count": 18,
   "metadata": {},
   "outputs": [
    {
     "data": {
      "image/png": "[encoded data removed]",
      "text/plain": [
       "<Figure size 1200x600 with 1 Axes>"
      ]
     },
     "metadata": {},
     "output_type": "display_data"
    }
   ],
   "source": [
    "plt.figure(figsize=(12, 6))\n",
    "plt.plot(history.history['loss'], label='Train Loss')\n",
    "plt.plot(history.history['val_loss'], label='Validation Loss')\n",
    "plt.xlabel('Epochs')\n",
    "plt.ylabel('Loss')\n",
    "plt.title('Model Loss')\n",
    "plt.legend()\n",
    "plt.show()"
   ]
  },
  {
   "cell_type": "code",
   "execution_count": 19,
   "metadata": {},
   "outputs": [
    {
     "name": "stderr",
     "output_type": "stream",
     "text": [
      "/opt/anaconda3/envs/cu/lib/python3.8/site-packages/keras/src/engine/training.py:3000: UserWarning: You are saving your model as an HDF5 file via `model.save()`. This file format is considered legacy. We recommend using instead the native Keras format, e.g. `model.save('my_model.keras')`.\n",
      "  saving_api.save_model(\n"
     ]
    }
   ],
   "source": [
    "model.save('insurance_fraud_model.h5')"
   ]
  },
  {
   "cell_type": "code",
   "execution_count": 20,
   "metadata": {},
   "outputs": [
    {
     "name": "stdout",
     "output_type": "stream",
     "text": [
      "25/25 [==============================] - 0s 962us/step - loss: nan - accuracy: 0.7600\n"
     ]
    },
    {
     "name": "stderr",
     "output_type": "stream",
     "text": [
      "/opt/anaconda3/envs/cu/lib/python3.8/site-packages/sklearn/utils/extmath.py:1050: RuntimeWarning: invalid value encountered in divide\n",
      "  updated_mean = (last_sum + new_sum) / updated_sample_count\n",
      "/opt/anaconda3/envs/cu/lib/python3.8/site-packages/sklearn/utils/extmath.py:1055: RuntimeWarning: invalid value encountered in divide\n",
      "  T = new_sum / new_sample_count\n",
      "/opt/anaconda3/envs/cu/lib/python3.8/site-packages/sklearn/utils/extmath.py:1075: RuntimeWarning: invalid value encountered in divide\n",
      "  new_unnormalized_variance -= correction**2 / new_sample_count\n",
      "/opt/anaconda3/envs/cu/lib/python3.8/site-packages/keras/src/engine/training.py:3000: UserWarning: You are saving your model as an HDF5 file via `model.save()`. This file format is considered legacy. We recommend using instead the native Keras format, e.g. `model.save('my_model.keras')`.\n",
      "  saving_api.save_model(\n"
     ]
    }
   ],
   "source": [
    "import joblib\n",
    "from sklearn.preprocessing import StandardScaler\n",
    "\n",
    "# Initialize the scaler\n",
    "scaler = StandardScaler()\n",
    "\n",
    "# Fit the scaler on the training data\n",
    "X_train_scaled = scaler.fit_transform(X_train)\n",
    "\n",
    "# Save the scaler\n",
    "joblib.dump(scaler, 'scaler.pkl')\n",
    "\n",
    "# Continue training the model as before\n",
    "model.fit(X_train_scaled, y_train)\n",
    "model.save('insurance_fraud_model.h5')\n"
   ]
  }
 ],
 "metadata": {
  "kernelspec": {
   "display_name": "cu",
   "language": "python",
   "name": "python3"
  },
  "language_info": {
   "codemirror_mode": {
    "name": "ipython",
    "version": 3
   },
   "file_extension": ".py",
   "mimetype": "text/x-python",
   "name": "python",
   "nbconvert_exporter": "python",
   "pygments_lexer": "ipython3",
   "version": "3.8.20"
  }
 },
 "nbformat": 4,
 "nbformat_minor": 2
}
